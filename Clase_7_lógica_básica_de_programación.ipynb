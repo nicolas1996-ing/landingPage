{
  "nbformat": 4,
  "nbformat_minor": 0,
  "metadata": {
    "colab": {
      "name": "Clase_7_lógica_básica_de_programación.ipynb",
      "provenance": [],
      "collapsed_sections": [],
      "include_colab_link": true
    },
    "kernelspec": {
      "name": "python3",
      "display_name": "Python 3"
    },
    "language_info": {
      "name": "python"
    },
    "widgets": {
      "application/vnd.jupyter.widget-state+json": {
        "e257447c2fb642e5a35d7835c3ea78d2": {
          "model_module": "@jupyter-widgets/controls",
          "model_name": "VBoxModel",
          "state": {
            "_view_name": "VBoxView",
            "_dom_classes": [
              "widget-interact"
            ],
            "_model_name": "VBoxModel",
            "_view_module": "@jupyter-widgets/controls",
            "_model_module_version": "1.5.0",
            "_view_count": null,
            "_view_module_version": "1.5.0",
            "box_style": "",
            "layout": "IPY_MODEL_5a53c8dbcd154f9b8d8cbca92a1094fd",
            "_model_module": "@jupyter-widgets/controls",
            "children": [
              "IPY_MODEL_9928ee5de78b456d9f3a26b27fd429ab",
              "IPY_MODEL_396a9f7cff084284aba990f27a0c02a7",
              "IPY_MODEL_baaa38736de94eb297d0c4855c776508",
              "IPY_MODEL_bdabca333d1a4bbb9e037ba909fa8fbd",
              "IPY_MODEL_f033d7ad051740fa939f318418347238",
              "IPY_MODEL_b08c8f3f95c848f3b0916900beb85aa1",
              "IPY_MODEL_b372de96762146b1828d3dddf743b441"
            ]
          }
        },
        "5a53c8dbcd154f9b8d8cbca92a1094fd": {
          "model_module": "@jupyter-widgets/base",
          "model_name": "LayoutModel",
          "state": {
            "_view_name": "LayoutView",
            "grid_template_rows": null,
            "right": null,
            "justify_content": null,
            "_view_module": "@jupyter-widgets/base",
            "overflow": null,
            "_model_module_version": "1.2.0",
            "_view_count": null,
            "flex_flow": null,
            "width": null,
            "min_width": null,
            "border": null,
            "align_items": null,
            "bottom": null,
            "_model_module": "@jupyter-widgets/base",
            "top": null,
            "grid_column": null,
            "overflow_y": null,
            "overflow_x": null,
            "grid_auto_flow": null,
            "grid_area": null,
            "grid_template_columns": null,
            "flex": null,
            "_model_name": "LayoutModel",
            "justify_items": null,
            "grid_row": null,
            "max_height": null,
            "align_content": null,
            "visibility": null,
            "align_self": null,
            "height": null,
            "min_height": null,
            "padding": null,
            "grid_auto_rows": null,
            "grid_gap": null,
            "max_width": null,
            "order": null,
            "_view_module_version": "1.2.0",
            "grid_template_areas": null,
            "object_position": null,
            "object_fit": null,
            "grid_auto_columns": null,
            "margin": null,
            "display": null,
            "left": null
          }
        },
        "9928ee5de78b456d9f3a26b27fd429ab": {
          "model_module": "@jupyter-widgets/controls",
          "model_name": "CheckboxModel",
          "state": {
            "_view_name": "CheckboxView",
            "style": "IPY_MODEL_a84c3c6c58f64e6eafdc99ef7d7469e4",
            "_dom_classes": [],
            "description": "Analisis",
            "_model_name": "CheckboxModel",
            "_view_module": "@jupyter-widgets/controls",
            "_model_module_version": "1.5.0",
            "value": false,
            "_view_count": null,
            "disabled": false,
            "_view_module_version": "1.5.0",
            "indent": true,
            "description_tooltip": null,
            "_model_module": "@jupyter-widgets/controls",
            "layout": "IPY_MODEL_4e1611a3905d4f5998b1be024eed8bf7"
          }
        },
        "396a9f7cff084284aba990f27a0c02a7": {
          "model_module": "@jupyter-widgets/controls",
          "model_name": "CheckboxModel",
          "state": {
            "_view_name": "CheckboxView",
            "style": "IPY_MODEL_57d072ee4f034c3a99464b7eac1658af",
            "_dom_classes": [],
            "description": "Salida",
            "_model_name": "CheckboxModel",
            "_view_module": "@jupyter-widgets/controls",
            "_model_module_version": "1.5.0",
            "value": false,
            "_view_count": null,
            "disabled": false,
            "_view_module_version": "1.5.0",
            "indent": true,
            "description_tooltip": null,
            "_model_module": "@jupyter-widgets/controls",
            "layout": "IPY_MODEL_a8e0d54db17f4a4bbd24ddf75dc3fc61"
          }
        },
        "baaa38736de94eb297d0c4855c776508": {
          "model_module": "@jupyter-widgets/controls",
          "model_name": "CheckboxModel",
          "state": {
            "_view_name": "CheckboxView",
            "style": "IPY_MODEL_315256affc6447b7b0370b2c8208edb1",
            "_dom_classes": [],
            "description": "Limitado",
            "_model_name": "CheckboxModel",
            "_view_module": "@jupyter-widgets/controls",
            "_model_module_version": "1.5.0",
            "value": false,
            "_view_count": null,
            "disabled": false,
            "_view_module_version": "1.5.0",
            "indent": true,
            "description_tooltip": null,
            "_model_module": "@jupyter-widgets/controls",
            "layout": "IPY_MODEL_cc30329193d24dad807e4ce72ee7c074"
          }
        },
        "bdabca333d1a4bbb9e037ba909fa8fbd": {
          "model_module": "@jupyter-widgets/controls",
          "model_name": "CheckboxModel",
          "state": {
            "_view_name": "CheckboxView",
            "style": "IPY_MODEL_7e3fe532cf52446a8359c62647486dd0",
            "_dom_classes": [],
            "description": "Finalizacion",
            "_model_name": "CheckboxModel",
            "_view_module": "@jupyter-widgets/controls",
            "_model_module_version": "1.5.0",
            "value": false,
            "_view_count": null,
            "disabled": false,
            "_view_module_version": "1.5.0",
            "indent": true,
            "description_tooltip": null,
            "_model_module": "@jupyter-widgets/controls",
            "layout": "IPY_MODEL_66e741bdc6c64e658a9331dccf1c1fc5"
          }
        },
        "f033d7ad051740fa939f318418347238": {
          "model_module": "@jupyter-widgets/controls",
          "model_name": "CheckboxModel",
          "state": {
            "_view_name": "CheckboxView",
            "style": "IPY_MODEL_1930c67b89f74755b791f06a02d3be47",
            "_dom_classes": [],
            "description": "Claridad",
            "_model_name": "CheckboxModel",
            "_view_module": "@jupyter-widgets/controls",
            "_model_module_version": "1.5.0",
            "value": false,
            "_view_count": null,
            "disabled": false,
            "_view_module_version": "1.5.0",
            "indent": true,
            "description_tooltip": null,
            "_model_module": "@jupyter-widgets/controls",
            "layout": "IPY_MODEL_09458df05a8c4d2195397dffc3428d78"
          }
        },
        "b08c8f3f95c848f3b0916900beb85aa1": {
          "model_module": "@jupyter-widgets/controls",
          "model_name": "CheckboxModel",
          "state": {
            "_view_name": "CheckboxView",
            "style": "IPY_MODEL_11f33180df1a432dbca26326e7ddd8cd",
            "_dom_classes": [],
            "description": "Prueba",
            "_model_name": "CheckboxModel",
            "_view_module": "@jupyter-widgets/controls",
            "_model_module_version": "1.5.0",
            "value": false,
            "_view_count": null,
            "disabled": false,
            "_view_module_version": "1.5.0",
            "indent": true,
            "description_tooltip": null,
            "_model_module": "@jupyter-widgets/controls",
            "layout": "IPY_MODEL_9158e832e9584897985329a976a6883a"
          }
        },
        "b372de96762146b1828d3dddf743b441": {
          "model_module": "@jupyter-widgets/output",
          "model_name": "OutputModel",
          "state": {
            "_view_name": "OutputView",
            "msg_id": "",
            "_dom_classes": [],
            "_model_name": "OutputModel",
            "outputs": [],
            "_view_module": "@jupyter-widgets/output",
            "_model_module_version": "1.0.0",
            "_view_count": null,
            "_view_module_version": "1.0.0",
            "layout": "IPY_MODEL_bf0e92dc20084334bdf35ea74f6282d5",
            "_model_module": "@jupyter-widgets/output"
          }
        },
        "a84c3c6c58f64e6eafdc99ef7d7469e4": {
          "model_module": "@jupyter-widgets/controls",
          "model_name": "DescriptionStyleModel",
          "state": {
            "_view_name": "StyleView",
            "_model_name": "DescriptionStyleModel",
            "description_width": "",
            "_view_module": "@jupyter-widgets/base",
            "_model_module_version": "1.5.0",
            "_view_count": null,
            "_view_module_version": "1.2.0",
            "_model_module": "@jupyter-widgets/controls"
          }
        },
        "4e1611a3905d4f5998b1be024eed8bf7": {
          "model_module": "@jupyter-widgets/base",
          "model_name": "LayoutModel",
          "state": {
            "_view_name": "LayoutView",
            "grid_template_rows": null,
            "right": null,
            "justify_content": null,
            "_view_module": "@jupyter-widgets/base",
            "overflow": null,
            "_model_module_version": "1.2.0",
            "_view_count": null,
            "flex_flow": null,
            "width": null,
            "min_width": null,
            "border": null,
            "align_items": null,
            "bottom": null,
            "_model_module": "@jupyter-widgets/base",
            "top": null,
            "grid_column": null,
            "overflow_y": null,
            "overflow_x": null,
            "grid_auto_flow": null,
            "grid_area": null,
            "grid_template_columns": null,
            "flex": null,
            "_model_name": "LayoutModel",
            "justify_items": null,
            "grid_row": null,
            "max_height": null,
            "align_content": null,
            "visibility": null,
            "align_self": null,
            "height": null,
            "min_height": null,
            "padding": null,
            "grid_auto_rows": null,
            "grid_gap": null,
            "max_width": null,
            "order": null,
            "_view_module_version": "1.2.0",
            "grid_template_areas": null,
            "object_position": null,
            "object_fit": null,
            "grid_auto_columns": null,
            "margin": null,
            "display": null,
            "left": null
          }
        },
        "57d072ee4f034c3a99464b7eac1658af": {
          "model_module": "@jupyter-widgets/controls",
          "model_name": "DescriptionStyleModel",
          "state": {
            "_view_name": "StyleView",
            "_model_name": "DescriptionStyleModel",
            "description_width": "",
            "_view_module": "@jupyter-widgets/base",
            "_model_module_version": "1.5.0",
            "_view_count": null,
            "_view_module_version": "1.2.0",
            "_model_module": "@jupyter-widgets/controls"
          }
        },
        "a8e0d54db17f4a4bbd24ddf75dc3fc61": {
          "model_module": "@jupyter-widgets/base",
          "model_name": "LayoutModel",
          "state": {
            "_view_name": "LayoutView",
            "grid_template_rows": null,
            "right": null,
            "justify_content": null,
            "_view_module": "@jupyter-widgets/base",
            "overflow": null,
            "_model_module_version": "1.2.0",
            "_view_count": null,
            "flex_flow": null,
            "width": null,
            "min_width": null,
            "border": null,
            "align_items": null,
            "bottom": null,
            "_model_module": "@jupyter-widgets/base",
            "top": null,
            "grid_column": null,
            "overflow_y": null,
            "overflow_x": null,
            "grid_auto_flow": null,
            "grid_area": null,
            "grid_template_columns": null,
            "flex": null,
            "_model_name": "LayoutModel",
            "justify_items": null,
            "grid_row": null,
            "max_height": null,
            "align_content": null,
            "visibility": null,
            "align_self": null,
            "height": null,
            "min_height": null,
            "padding": null,
            "grid_auto_rows": null,
            "grid_gap": null,
            "max_width": null,
            "order": null,
            "_view_module_version": "1.2.0",
            "grid_template_areas": null,
            "object_position": null,
            "object_fit": null,
            "grid_auto_columns": null,
            "margin": null,
            "display": null,
            "left": null
          }
        },
        "315256affc6447b7b0370b2c8208edb1": {
          "model_module": "@jupyter-widgets/controls",
          "model_name": "DescriptionStyleModel",
          "state": {
            "_view_name": "StyleView",
            "_model_name": "DescriptionStyleModel",
            "description_width": "",
            "_view_module": "@jupyter-widgets/base",
            "_model_module_version": "1.5.0",
            "_view_count": null,
            "_view_module_version": "1.2.0",
            "_model_module": "@jupyter-widgets/controls"
          }
        },
        "cc30329193d24dad807e4ce72ee7c074": {
          "model_module": "@jupyter-widgets/base",
          "model_name": "LayoutModel",
          "state": {
            "_view_name": "LayoutView",
            "grid_template_rows": null,
            "right": null,
            "justify_content": null,
            "_view_module": "@jupyter-widgets/base",
            "overflow": null,
            "_model_module_version": "1.2.0",
            "_view_count": null,
            "flex_flow": null,
            "width": null,
            "min_width": null,
            "border": null,
            "align_items": null,
            "bottom": null,
            "_model_module": "@jupyter-widgets/base",
            "top": null,
            "grid_column": null,
            "overflow_y": null,
            "overflow_x": null,
            "grid_auto_flow": null,
            "grid_area": null,
            "grid_template_columns": null,
            "flex": null,
            "_model_name": "LayoutModel",
            "justify_items": null,
            "grid_row": null,
            "max_height": null,
            "align_content": null,
            "visibility": null,
            "align_self": null,
            "height": null,
            "min_height": null,
            "padding": null,
            "grid_auto_rows": null,
            "grid_gap": null,
            "max_width": null,
            "order": null,
            "_view_module_version": "1.2.0",
            "grid_template_areas": null,
            "object_position": null,
            "object_fit": null,
            "grid_auto_columns": null,
            "margin": null,
            "display": null,
            "left": null
          }
        },
        "7e3fe532cf52446a8359c62647486dd0": {
          "model_module": "@jupyter-widgets/controls",
          "model_name": "DescriptionStyleModel",
          "state": {
            "_view_name": "StyleView",
            "_model_name": "DescriptionStyleModel",
            "description_width": "",
            "_view_module": "@jupyter-widgets/base",
            "_model_module_version": "1.5.0",
            "_view_count": null,
            "_view_module_version": "1.2.0",
            "_model_module": "@jupyter-widgets/controls"
          }
        },
        "66e741bdc6c64e658a9331dccf1c1fc5": {
          "model_module": "@jupyter-widgets/base",
          "model_name": "LayoutModel",
          "state": {
            "_view_name": "LayoutView",
            "grid_template_rows": null,
            "right": null,
            "justify_content": null,
            "_view_module": "@jupyter-widgets/base",
            "overflow": null,
            "_model_module_version": "1.2.0",
            "_view_count": null,
            "flex_flow": null,
            "width": null,
            "min_width": null,
            "border": null,
            "align_items": null,
            "bottom": null,
            "_model_module": "@jupyter-widgets/base",
            "top": null,
            "grid_column": null,
            "overflow_y": null,
            "overflow_x": null,
            "grid_auto_flow": null,
            "grid_area": null,
            "grid_template_columns": null,
            "flex": null,
            "_model_name": "LayoutModel",
            "justify_items": null,
            "grid_row": null,
            "max_height": null,
            "align_content": null,
            "visibility": null,
            "align_self": null,
            "height": null,
            "min_height": null,
            "padding": null,
            "grid_auto_rows": null,
            "grid_gap": null,
            "max_width": null,
            "order": null,
            "_view_module_version": "1.2.0",
            "grid_template_areas": null,
            "object_position": null,
            "object_fit": null,
            "grid_auto_columns": null,
            "margin": null,
            "display": null,
            "left": null
          }
        },
        "1930c67b89f74755b791f06a02d3be47": {
          "model_module": "@jupyter-widgets/controls",
          "model_name": "DescriptionStyleModel",
          "state": {
            "_view_name": "StyleView",
            "_model_name": "DescriptionStyleModel",
            "description_width": "",
            "_view_module": "@jupyter-widgets/base",
            "_model_module_version": "1.5.0",
            "_view_count": null,
            "_view_module_version": "1.2.0",
            "_model_module": "@jupyter-widgets/controls"
          }
        },
        "09458df05a8c4d2195397dffc3428d78": {
          "model_module": "@jupyter-widgets/base",
          "model_name": "LayoutModel",
          "state": {
            "_view_name": "LayoutView",
            "grid_template_rows": null,
            "right": null,
            "justify_content": null,
            "_view_module": "@jupyter-widgets/base",
            "overflow": null,
            "_model_module_version": "1.2.0",
            "_view_count": null,
            "flex_flow": null,
            "width": null,
            "min_width": null,
            "border": null,
            "align_items": null,
            "bottom": null,
            "_model_module": "@jupyter-widgets/base",
            "top": null,
            "grid_column": null,
            "overflow_y": null,
            "overflow_x": null,
            "grid_auto_flow": null,
            "grid_area": null,
            "grid_template_columns": null,
            "flex": null,
            "_model_name": "LayoutModel",
            "justify_items": null,
            "grid_row": null,
            "max_height": null,
            "align_content": null,
            "visibility": null,
            "align_self": null,
            "height": null,
            "min_height": null,
            "padding": null,
            "grid_auto_rows": null,
            "grid_gap": null,
            "max_width": null,
            "order": null,
            "_view_module_version": "1.2.0",
            "grid_template_areas": null,
            "object_position": null,
            "object_fit": null,
            "grid_auto_columns": null,
            "margin": null,
            "display": null,
            "left": null
          }
        },
        "11f33180df1a432dbca26326e7ddd8cd": {
          "model_module": "@jupyter-widgets/controls",
          "model_name": "DescriptionStyleModel",
          "state": {
            "_view_name": "StyleView",
            "_model_name": "DescriptionStyleModel",
            "description_width": "",
            "_view_module": "@jupyter-widgets/base",
            "_model_module_version": "1.5.0",
            "_view_count": null,
            "_view_module_version": "1.2.0",
            "_model_module": "@jupyter-widgets/controls"
          }
        },
        "9158e832e9584897985329a976a6883a": {
          "model_module": "@jupyter-widgets/base",
          "model_name": "LayoutModel",
          "state": {
            "_view_name": "LayoutView",
            "grid_template_rows": null,
            "right": null,
            "justify_content": null,
            "_view_module": "@jupyter-widgets/base",
            "overflow": null,
            "_model_module_version": "1.2.0",
            "_view_count": null,
            "flex_flow": null,
            "width": null,
            "min_width": null,
            "border": null,
            "align_items": null,
            "bottom": null,
            "_model_module": "@jupyter-widgets/base",
            "top": null,
            "grid_column": null,
            "overflow_y": null,
            "overflow_x": null,
            "grid_auto_flow": null,
            "grid_area": null,
            "grid_template_columns": null,
            "flex": null,
            "_model_name": "LayoutModel",
            "justify_items": null,
            "grid_row": null,
            "max_height": null,
            "align_content": null,
            "visibility": null,
            "align_self": null,
            "height": null,
            "min_height": null,
            "padding": null,
            "grid_auto_rows": null,
            "grid_gap": null,
            "max_width": null,
            "order": null,
            "_view_module_version": "1.2.0",
            "grid_template_areas": null,
            "object_position": null,
            "object_fit": null,
            "grid_auto_columns": null,
            "margin": null,
            "display": null,
            "left": null
          }
        },
        "bf0e92dc20084334bdf35ea74f6282d5": {
          "model_module": "@jupyter-widgets/base",
          "model_name": "LayoutModel",
          "state": {
            "_view_name": "LayoutView",
            "grid_template_rows": null,
            "right": null,
            "justify_content": null,
            "_view_module": "@jupyter-widgets/base",
            "overflow": null,
            "_model_module_version": "1.2.0",
            "_view_count": null,
            "flex_flow": null,
            "width": null,
            "min_width": null,
            "border": null,
            "align_items": null,
            "bottom": null,
            "_model_module": "@jupyter-widgets/base",
            "top": null,
            "grid_column": null,
            "overflow_y": null,
            "overflow_x": null,
            "grid_auto_flow": null,
            "grid_area": null,
            "grid_template_columns": null,
            "flex": null,
            "_model_name": "LayoutModel",
            "justify_items": null,
            "grid_row": null,
            "max_height": null,
            "align_content": null,
            "visibility": null,
            "align_self": null,
            "height": null,
            "min_height": null,
            "padding": null,
            "grid_auto_rows": null,
            "grid_gap": null,
            "max_width": null,
            "order": null,
            "_view_module_version": "1.2.0",
            "grid_template_areas": null,
            "object_position": null,
            "object_fit": null,
            "grid_auto_columns": null,
            "margin": null,
            "display": null,
            "left": null
          }
        },
        "3f0da9cd1a884acbb5072d58ec2081cb": {
          "model_module": "@jupyter-widgets/controls",
          "model_name": "VBoxModel",
          "state": {
            "_view_name": "VBoxView",
            "_dom_classes": [
              "widget-interact"
            ],
            "_model_name": "VBoxModel",
            "_view_module": "@jupyter-widgets/controls",
            "_model_module_version": "1.5.0",
            "_view_count": null,
            "_view_module_version": "1.5.0",
            "box_style": "",
            "layout": "IPY_MODEL_91fdddbc9a934d6494bdd7cc28091ad8",
            "_model_module": "@jupyter-widgets/controls",
            "children": [
              "IPY_MODEL_f4ca141526dd44c88e3f9898db59c420",
              "IPY_MODEL_a4ae228e7315457394466060926f6659",
              "IPY_MODEL_ffe5d9f02273414c9b1bae90b54843e6",
              "IPY_MODEL_3f33d46e81ef427c907f4d1315db75a4",
              "IPY_MODEL_c766dbd47b374016ab298562e414de17",
              "IPY_MODEL_30264c4dc37544deb60bae08fd57beea",
              "IPY_MODEL_e64768ad454b4eed893badd77b10c46c"
            ]
          }
        },
        "91fdddbc9a934d6494bdd7cc28091ad8": {
          "model_module": "@jupyter-widgets/base",
          "model_name": "LayoutModel",
          "state": {
            "_view_name": "LayoutView",
            "grid_template_rows": null,
            "right": null,
            "justify_content": null,
            "_view_module": "@jupyter-widgets/base",
            "overflow": null,
            "_model_module_version": "1.2.0",
            "_view_count": null,
            "flex_flow": null,
            "width": null,
            "min_width": null,
            "border": null,
            "align_items": null,
            "bottom": null,
            "_model_module": "@jupyter-widgets/base",
            "top": null,
            "grid_column": null,
            "overflow_y": null,
            "overflow_x": null,
            "grid_auto_flow": null,
            "grid_area": null,
            "grid_template_columns": null,
            "flex": null,
            "_model_name": "LayoutModel",
            "justify_items": null,
            "grid_row": null,
            "max_height": null,
            "align_content": null,
            "visibility": null,
            "align_self": null,
            "height": null,
            "min_height": null,
            "padding": null,
            "grid_auto_rows": null,
            "grid_gap": null,
            "max_width": null,
            "order": null,
            "_view_module_version": "1.2.0",
            "grid_template_areas": null,
            "object_position": null,
            "object_fit": null,
            "grid_auto_columns": null,
            "margin": null,
            "display": null,
            "left": null
          }
        },
        "f4ca141526dd44c88e3f9898db59c420": {
          "model_module": "@jupyter-widgets/controls",
          "model_name": "CheckboxModel",
          "state": {
            "_view_name": "CheckboxView",
            "style": "IPY_MODEL_08dbdda8ced3403d872a5fa02682eb58",
            "_dom_classes": [],
            "description": "Analisis",
            "_model_name": "CheckboxModel",
            "_view_module": "@jupyter-widgets/controls",
            "_model_module_version": "1.5.0",
            "value": false,
            "_view_count": null,
            "disabled": false,
            "_view_module_version": "1.5.0",
            "indent": true,
            "description_tooltip": null,
            "_model_module": "@jupyter-widgets/controls",
            "layout": "IPY_MODEL_6f733df17ec24afc929234352c1d5153"
          }
        },
        "a4ae228e7315457394466060926f6659": {
          "model_module": "@jupyter-widgets/controls",
          "model_name": "CheckboxModel",
          "state": {
            "_view_name": "CheckboxView",
            "style": "IPY_MODEL_1dfdec169adf4290ad2b0f246fafc4da",
            "_dom_classes": [],
            "description": "Salida",
            "_model_name": "CheckboxModel",
            "_view_module": "@jupyter-widgets/controls",
            "_model_module_version": "1.5.0",
            "value": false,
            "_view_count": null,
            "disabled": false,
            "_view_module_version": "1.5.0",
            "indent": true,
            "description_tooltip": null,
            "_model_module": "@jupyter-widgets/controls",
            "layout": "IPY_MODEL_414100c75bbb402aaab854dd0fd42677"
          }
        },
        "ffe5d9f02273414c9b1bae90b54843e6": {
          "model_module": "@jupyter-widgets/controls",
          "model_name": "CheckboxModel",
          "state": {
            "_view_name": "CheckboxView",
            "style": "IPY_MODEL_f7843a769d384403b14980b21995227c",
            "_dom_classes": [],
            "description": "Limitado",
            "_model_name": "CheckboxModel",
            "_view_module": "@jupyter-widgets/controls",
            "_model_module_version": "1.5.0",
            "value": false,
            "_view_count": null,
            "disabled": false,
            "_view_module_version": "1.5.0",
            "indent": true,
            "description_tooltip": null,
            "_model_module": "@jupyter-widgets/controls",
            "layout": "IPY_MODEL_2d06a9730eca4a798da3989509223845"
          }
        },
        "3f33d46e81ef427c907f4d1315db75a4": {
          "model_module": "@jupyter-widgets/controls",
          "model_name": "CheckboxModel",
          "state": {
            "_view_name": "CheckboxView",
            "style": "IPY_MODEL_4418a40309954563abeae99327b874f0",
            "_dom_classes": [],
            "description": "Finalizacion",
            "_model_name": "CheckboxModel",
            "_view_module": "@jupyter-widgets/controls",
            "_model_module_version": "1.5.0",
            "value": false,
            "_view_count": null,
            "disabled": false,
            "_view_module_version": "1.5.0",
            "indent": true,
            "description_tooltip": null,
            "_model_module": "@jupyter-widgets/controls",
            "layout": "IPY_MODEL_4c30ac7c4310427a97c59d51d78fa1a4"
          }
        },
        "c766dbd47b374016ab298562e414de17": {
          "model_module": "@jupyter-widgets/controls",
          "model_name": "CheckboxModel",
          "state": {
            "_view_name": "CheckboxView",
            "style": "IPY_MODEL_8daae45ac5dc4274aad6821931a3d984",
            "_dom_classes": [],
            "description": "Claridad",
            "_model_name": "CheckboxModel",
            "_view_module": "@jupyter-widgets/controls",
            "_model_module_version": "1.5.0",
            "value": false,
            "_view_count": null,
            "disabled": false,
            "_view_module_version": "1.5.0",
            "indent": true,
            "description_tooltip": null,
            "_model_module": "@jupyter-widgets/controls",
            "layout": "IPY_MODEL_ed93c8a75f324fe0a06f2e36a70fd90b"
          }
        },
        "30264c4dc37544deb60bae08fd57beea": {
          "model_module": "@jupyter-widgets/controls",
          "model_name": "CheckboxModel",
          "state": {
            "_view_name": "CheckboxView",
            "style": "IPY_MODEL_27298598b804486e90572cf421b21a60",
            "_dom_classes": [],
            "description": "Prueba",
            "_model_name": "CheckboxModel",
            "_view_module": "@jupyter-widgets/controls",
            "_model_module_version": "1.5.0",
            "value": false,
            "_view_count": null,
            "disabled": false,
            "_view_module_version": "1.5.0",
            "indent": true,
            "description_tooltip": null,
            "_model_module": "@jupyter-widgets/controls",
            "layout": "IPY_MODEL_41f9b44901b8459ab0e60d19c32783c2"
          }
        },
        "e64768ad454b4eed893badd77b10c46c": {
          "model_module": "@jupyter-widgets/output",
          "model_name": "OutputModel",
          "state": {
            "_view_name": "OutputView",
            "msg_id": "",
            "_dom_classes": [],
            "_model_name": "OutputModel",
            "outputs": [],
            "_view_module": "@jupyter-widgets/output",
            "_model_module_version": "1.0.0",
            "_view_count": null,
            "_view_module_version": "1.0.0",
            "layout": "IPY_MODEL_235965a044254012a2f94d478dac26d1",
            "_model_module": "@jupyter-widgets/output"
          }
        },
        "08dbdda8ced3403d872a5fa02682eb58": {
          "model_module": "@jupyter-widgets/controls",
          "model_name": "DescriptionStyleModel",
          "state": {
            "_view_name": "StyleView",
            "_model_name": "DescriptionStyleModel",
            "description_width": "",
            "_view_module": "@jupyter-widgets/base",
            "_model_module_version": "1.5.0",
            "_view_count": null,
            "_view_module_version": "1.2.0",
            "_model_module": "@jupyter-widgets/controls"
          }
        },
        "6f733df17ec24afc929234352c1d5153": {
          "model_module": "@jupyter-widgets/base",
          "model_name": "LayoutModel",
          "state": {
            "_view_name": "LayoutView",
            "grid_template_rows": null,
            "right": null,
            "justify_content": null,
            "_view_module": "@jupyter-widgets/base",
            "overflow": null,
            "_model_module_version": "1.2.0",
            "_view_count": null,
            "flex_flow": null,
            "width": null,
            "min_width": null,
            "border": null,
            "align_items": null,
            "bottom": null,
            "_model_module": "@jupyter-widgets/base",
            "top": null,
            "grid_column": null,
            "overflow_y": null,
            "overflow_x": null,
            "grid_auto_flow": null,
            "grid_area": null,
            "grid_template_columns": null,
            "flex": null,
            "_model_name": "LayoutModel",
            "justify_items": null,
            "grid_row": null,
            "max_height": null,
            "align_content": null,
            "visibility": null,
            "align_self": null,
            "height": null,
            "min_height": null,
            "padding": null,
            "grid_auto_rows": null,
            "grid_gap": null,
            "max_width": null,
            "order": null,
            "_view_module_version": "1.2.0",
            "grid_template_areas": null,
            "object_position": null,
            "object_fit": null,
            "grid_auto_columns": null,
            "margin": null,
            "display": null,
            "left": null
          }
        },
        "1dfdec169adf4290ad2b0f246fafc4da": {
          "model_module": "@jupyter-widgets/controls",
          "model_name": "DescriptionStyleModel",
          "state": {
            "_view_name": "StyleView",
            "_model_name": "DescriptionStyleModel",
            "description_width": "",
            "_view_module": "@jupyter-widgets/base",
            "_model_module_version": "1.5.0",
            "_view_count": null,
            "_view_module_version": "1.2.0",
            "_model_module": "@jupyter-widgets/controls"
          }
        },
        "414100c75bbb402aaab854dd0fd42677": {
          "model_module": "@jupyter-widgets/base",
          "model_name": "LayoutModel",
          "state": {
            "_view_name": "LayoutView",
            "grid_template_rows": null,
            "right": null,
            "justify_content": null,
            "_view_module": "@jupyter-widgets/base",
            "overflow": null,
            "_model_module_version": "1.2.0",
            "_view_count": null,
            "flex_flow": null,
            "width": null,
            "min_width": null,
            "border": null,
            "align_items": null,
            "bottom": null,
            "_model_module": "@jupyter-widgets/base",
            "top": null,
            "grid_column": null,
            "overflow_y": null,
            "overflow_x": null,
            "grid_auto_flow": null,
            "grid_area": null,
            "grid_template_columns": null,
            "flex": null,
            "_model_name": "LayoutModel",
            "justify_items": null,
            "grid_row": null,
            "max_height": null,
            "align_content": null,
            "visibility": null,
            "align_self": null,
            "height": null,
            "min_height": null,
            "padding": null,
            "grid_auto_rows": null,
            "grid_gap": null,
            "max_width": null,
            "order": null,
            "_view_module_version": "1.2.0",
            "grid_template_areas": null,
            "object_position": null,
            "object_fit": null,
            "grid_auto_columns": null,
            "margin": null,
            "display": null,
            "left": null
          }
        },
        "f7843a769d384403b14980b21995227c": {
          "model_module": "@jupyter-widgets/controls",
          "model_name": "DescriptionStyleModel",
          "state": {
            "_view_name": "StyleView",
            "_model_name": "DescriptionStyleModel",
            "description_width": "",
            "_view_module": "@jupyter-widgets/base",
            "_model_module_version": "1.5.0",
            "_view_count": null,
            "_view_module_version": "1.2.0",
            "_model_module": "@jupyter-widgets/controls"
          }
        },
        "2d06a9730eca4a798da3989509223845": {
          "model_module": "@jupyter-widgets/base",
          "model_name": "LayoutModel",
          "state": {
            "_view_name": "LayoutView",
            "grid_template_rows": null,
            "right": null,
            "justify_content": null,
            "_view_module": "@jupyter-widgets/base",
            "overflow": null,
            "_model_module_version": "1.2.0",
            "_view_count": null,
            "flex_flow": null,
            "width": null,
            "min_width": null,
            "border": null,
            "align_items": null,
            "bottom": null,
            "_model_module": "@jupyter-widgets/base",
            "top": null,
            "grid_column": null,
            "overflow_y": null,
            "overflow_x": null,
            "grid_auto_flow": null,
            "grid_area": null,
            "grid_template_columns": null,
            "flex": null,
            "_model_name": "LayoutModel",
            "justify_items": null,
            "grid_row": null,
            "max_height": null,
            "align_content": null,
            "visibility": null,
            "align_self": null,
            "height": null,
            "min_height": null,
            "padding": null,
            "grid_auto_rows": null,
            "grid_gap": null,
            "max_width": null,
            "order": null,
            "_view_module_version": "1.2.0",
            "grid_template_areas": null,
            "object_position": null,
            "object_fit": null,
            "grid_auto_columns": null,
            "margin": null,
            "display": null,
            "left": null
          }
        },
        "4418a40309954563abeae99327b874f0": {
          "model_module": "@jupyter-widgets/controls",
          "model_name": "DescriptionStyleModel",
          "state": {
            "_view_name": "StyleView",
            "_model_name": "DescriptionStyleModel",
            "description_width": "",
            "_view_module": "@jupyter-widgets/base",
            "_model_module_version": "1.5.0",
            "_view_count": null,
            "_view_module_version": "1.2.0",
            "_model_module": "@jupyter-widgets/controls"
          }
        },
        "4c30ac7c4310427a97c59d51d78fa1a4": {
          "model_module": "@jupyter-widgets/base",
          "model_name": "LayoutModel",
          "state": {
            "_view_name": "LayoutView",
            "grid_template_rows": null,
            "right": null,
            "justify_content": null,
            "_view_module": "@jupyter-widgets/base",
            "overflow": null,
            "_model_module_version": "1.2.0",
            "_view_count": null,
            "flex_flow": null,
            "width": null,
            "min_width": null,
            "border": null,
            "align_items": null,
            "bottom": null,
            "_model_module": "@jupyter-widgets/base",
            "top": null,
            "grid_column": null,
            "overflow_y": null,
            "overflow_x": null,
            "grid_auto_flow": null,
            "grid_area": null,
            "grid_template_columns": null,
            "flex": null,
            "_model_name": "LayoutModel",
            "justify_items": null,
            "grid_row": null,
            "max_height": null,
            "align_content": null,
            "visibility": null,
            "align_self": null,
            "height": null,
            "min_height": null,
            "padding": null,
            "grid_auto_rows": null,
            "grid_gap": null,
            "max_width": null,
            "order": null,
            "_view_module_version": "1.2.0",
            "grid_template_areas": null,
            "object_position": null,
            "object_fit": null,
            "grid_auto_columns": null,
            "margin": null,
            "display": null,
            "left": null
          }
        },
        "8daae45ac5dc4274aad6821931a3d984": {
          "model_module": "@jupyter-widgets/controls",
          "model_name": "DescriptionStyleModel",
          "state": {
            "_view_name": "StyleView",
            "_model_name": "DescriptionStyleModel",
            "description_width": "",
            "_view_module": "@jupyter-widgets/base",
            "_model_module_version": "1.5.0",
            "_view_count": null,
            "_view_module_version": "1.2.0",
            "_model_module": "@jupyter-widgets/controls"
          }
        },
        "ed93c8a75f324fe0a06f2e36a70fd90b": {
          "model_module": "@jupyter-widgets/base",
          "model_name": "LayoutModel",
          "state": {
            "_view_name": "LayoutView",
            "grid_template_rows": null,
            "right": null,
            "justify_content": null,
            "_view_module": "@jupyter-widgets/base",
            "overflow": null,
            "_model_module_version": "1.2.0",
            "_view_count": null,
            "flex_flow": null,
            "width": null,
            "min_width": null,
            "border": null,
            "align_items": null,
            "bottom": null,
            "_model_module": "@jupyter-widgets/base",
            "top": null,
            "grid_column": null,
            "overflow_y": null,
            "overflow_x": null,
            "grid_auto_flow": null,
            "grid_area": null,
            "grid_template_columns": null,
            "flex": null,
            "_model_name": "LayoutModel",
            "justify_items": null,
            "grid_row": null,
            "max_height": null,
            "align_content": null,
            "visibility": null,
            "align_self": null,
            "height": null,
            "min_height": null,
            "padding": null,
            "grid_auto_rows": null,
            "grid_gap": null,
            "max_width": null,
            "order": null,
            "_view_module_version": "1.2.0",
            "grid_template_areas": null,
            "object_position": null,
            "object_fit": null,
            "grid_auto_columns": null,
            "margin": null,
            "display": null,
            "left": null
          }
        },
        "27298598b804486e90572cf421b21a60": {
          "model_module": "@jupyter-widgets/controls",
          "model_name": "DescriptionStyleModel",
          "state": {
            "_view_name": "StyleView",
            "_model_name": "DescriptionStyleModel",
            "description_width": "",
            "_view_module": "@jupyter-widgets/base",
            "_model_module_version": "1.5.0",
            "_view_count": null,
            "_view_module_version": "1.2.0",
            "_model_module": "@jupyter-widgets/controls"
          }
        },
        "41f9b44901b8459ab0e60d19c32783c2": {
          "model_module": "@jupyter-widgets/base",
          "model_name": "LayoutModel",
          "state": {
            "_view_name": "LayoutView",
            "grid_template_rows": null,
            "right": null,
            "justify_content": null,
            "_view_module": "@jupyter-widgets/base",
            "overflow": null,
            "_model_module_version": "1.2.0",
            "_view_count": null,
            "flex_flow": null,
            "width": null,
            "min_width": null,
            "border": null,
            "align_items": null,
            "bottom": null,
            "_model_module": "@jupyter-widgets/base",
            "top": null,
            "grid_column": null,
            "overflow_y": null,
            "overflow_x": null,
            "grid_auto_flow": null,
            "grid_area": null,
            "grid_template_columns": null,
            "flex": null,
            "_model_name": "LayoutModel",
            "justify_items": null,
            "grid_row": null,
            "max_height": null,
            "align_content": null,
            "visibility": null,
            "align_self": null,
            "height": null,
            "min_height": null,
            "padding": null,
            "grid_auto_rows": null,
            "grid_gap": null,
            "max_width": null,
            "order": null,
            "_view_module_version": "1.2.0",
            "grid_template_areas": null,
            "object_position": null,
            "object_fit": null,
            "grid_auto_columns": null,
            "margin": null,
            "display": null,
            "left": null
          }
        },
        "235965a044254012a2f94d478dac26d1": {
          "model_module": "@jupyter-widgets/base",
          "model_name": "LayoutModel",
          "state": {
            "_view_name": "LayoutView",
            "grid_template_rows": null,
            "right": null,
            "justify_content": null,
            "_view_module": "@jupyter-widgets/base",
            "overflow": null,
            "_model_module_version": "1.2.0",
            "_view_count": null,
            "flex_flow": null,
            "width": null,
            "min_width": null,
            "border": null,
            "align_items": null,
            "bottom": null,
            "_model_module": "@jupyter-widgets/base",
            "top": null,
            "grid_column": null,
            "overflow_y": null,
            "overflow_x": null,
            "grid_auto_flow": null,
            "grid_area": null,
            "grid_template_columns": null,
            "flex": null,
            "_model_name": "LayoutModel",
            "justify_items": null,
            "grid_row": null,
            "max_height": null,
            "align_content": null,
            "visibility": null,
            "align_self": null,
            "height": null,
            "min_height": null,
            "padding": null,
            "grid_auto_rows": null,
            "grid_gap": null,
            "max_width": null,
            "order": null,
            "_view_module_version": "1.2.0",
            "grid_template_areas": null,
            "object_position": null,
            "object_fit": null,
            "grid_auto_columns": null,
            "margin": null,
            "display": null,
            "left": null
          }
        }
      }
    }
  },
  "cells": [
    {
      "cell_type": "markdown",
      "metadata": {
        "id": "view-in-github",
        "colab_type": "text"
      },
      "source": [
        "<a href=\"https://colab.research.google.com/github/nicolas1996-ing/nicolas1996-ing.github.io/blob/master/Clase_7_l%C3%B3gica_b%C3%A1sica_de_programaci%C3%B3n.ipynb\" target=\"_parent\"><img src=\"https://colab.research.google.com/assets/colab-badge.svg\" alt=\"Open In Colab\"/></a>"
      ]
    },
    {
      "cell_type": "markdown",
      "metadata": {
        "id": "XeBeehyb4owq"
      },
      "source": [
        "## Lógica básica de Programación"
      ]
    },
    {
      "cell_type": "markdown",
      "metadata": {
        "id": "Quu7nh9n4xVQ"
      },
      "source": [
        "Cuando se desarrolla un programa existen ciertas características que este debe cumplir, entretanto, es indispensable tener en cuenta cada paso a la hora de construir el código.\n",
        "\n",
        "En muchos casos, se cuenta con un dominio relativo de la situación, sin embargo, es buena idea repasar cada uno de los elementos de la creación de una solución."
      ]
    },
    {
      "cell_type": "markdown",
      "metadata": {
        "id": "tNYFZOrp5rrO"
      },
      "source": [
        "¿Cuál es el procedimiento para cambiar la llanta de un carro?"
      ]
    },
    {
      "cell_type": "code",
      "metadata": {
        "id": "M93Kt_5f577k"
      },
      "source": [
        "#@title Pasos \n",
        "\n",
        "Paso_1 = 'Ahorillar el carro - Si estamos manejando' #@param {type:\"string\"}\n",
        "Paso_2 = \"'Comprobar que est\\xE1 pinchada'\" #@param {type:\"string\"}\n",
        "Paso_3 = \"'Colocar tri\\xE1ngulos de emergencia'\" #@param {type:\"string\"}\n",
        "Paso_4 = \"'B\\xFAsquedas de herramientas'\" #@param {type:\"string\"}\n",
        "Paso_5 = 'Colocar los gatos o topes' #@param {type:\"string\"}\n",
        "Paso_6 = \"'Aflojar tuercas - si carro est\\xE1 abajo\" #@param {type:\"string\"}\n",
        "Paso_7 = \"'Levantar el veh\\xEDculo\" #@param {type:\"string\"}\n",
        "Paso_8 = 'Retirar la llanta' #@param {type:\"string\"}\n",
        "Paso_9 = 'Poner llanta nueva' #@param {type:\"string\"}\n",
        "Paso_10 = 'Poner los pernos' #@param {type:\"string\"}\n",
        "Paso_11 = ' Bajar el veh\\xEDculo' #@param {type:\"string\"}\n",
        "Paso_12 = 'Guardar herramientas' #@param {type:\"string\"}\n",
        "Paso_13 = 'Retirar se\\xF1alizaci\\xF3n' #@param {type:\"string\"}\n"
      ],
      "execution_count": null,
      "outputs": []
    },
    {
      "cell_type": "markdown",
      "metadata": {
        "id": "VSAxpYKO7Eyl"
      },
      "source": [
        "# Ejercicio Conjunto"
      ]
    },
    {
      "cell_type": "markdown",
      "metadata": {
        "id": "kU4vVDKO7IxJ"
      },
      "source": [
        "Implemente un algotritmo que pueda calcular cuántos meses han transcurrido entre dos fechas. Elabore el modelo de la manera más sencilla posible, sin contar con años bisiestos."
      ]
    },
    {
      "cell_type": "code",
      "metadata": {
        "id": "WujN_KjK4kMU"
      },
      "source": [
        "from __future__ import print_function\n",
        "from ipywidgets import interact, interactive, fixed, interact_manual\n",
        "import ipywidgets as widgets\n"
      ],
      "execution_count": 2,
      "outputs": []
    },
    {
      "cell_type": "code",
      "metadata": {
        "colab": {
          "base_uri": "https://localhost:8080/",
          "height": 208,
          "referenced_widgets": [
            "e257447c2fb642e5a35d7835c3ea78d2",
            "5a53c8dbcd154f9b8d8cbca92a1094fd",
            "9928ee5de78b456d9f3a26b27fd429ab",
            "396a9f7cff084284aba990f27a0c02a7",
            "baaa38736de94eb297d0c4855c776508",
            "bdabca333d1a4bbb9e037ba909fa8fbd",
            "f033d7ad051740fa939f318418347238",
            "b08c8f3f95c848f3b0916900beb85aa1",
            "b372de96762146b1828d3dddf743b441",
            "a84c3c6c58f64e6eafdc99ef7d7469e4",
            "4e1611a3905d4f5998b1be024eed8bf7",
            "57d072ee4f034c3a99464b7eac1658af",
            "a8e0d54db17f4a4bbd24ddf75dc3fc61",
            "315256affc6447b7b0370b2c8208edb1",
            "cc30329193d24dad807e4ce72ee7c074",
            "7e3fe532cf52446a8359c62647486dd0",
            "66e741bdc6c64e658a9331dccf1c1fc5",
            "1930c67b89f74755b791f06a02d3be47",
            "09458df05a8c4d2195397dffc3428d78",
            "11f33180df1a432dbca26326e7ddd8cd",
            "9158e832e9584897985329a976a6883a",
            "bf0e92dc20084334bdf35ea74f6282d5"
          ]
        },
        "id": "oQgn7oxu7-yE",
        "outputId": "09228bcf-dff3-4024-db8b-376c69e20aba"
      },
      "source": [
        "@interact(Analisis=False, Salida = False, Limitado = False, Finalizacion = False, Claridad = False, Prueba = False )\n",
        "def g(Analisis, Salida, Limitado, Finalizacion, Claridad, Prueba):\n",
        "    pass"
      ],
      "execution_count": 3,
      "outputs": [
        {
          "output_type": "display_data",
          "data": {
            "application/vnd.jupyter.widget-view+json": {
              "model_id": "e257447c2fb642e5a35d7835c3ea78d2",
              "version_minor": 0,
              "version_major": 2
            },
            "text/plain": [
              "interactive(children=(Checkbox(value=False, description='Analisis'), Checkbox(value=False, description='Salida…"
            ]
          },
          "metadata": {
            "tags": []
          }
        }
      ]
    },
    {
      "cell_type": "code",
      "metadata": {
        "id": "fOwMPTrf9IYD"
      },
      "source": [
        "#@title Puntualización \n",
        "\n",
        "Datos_de_entrada = 'Fecha 1,  Fecha 2 - A\\xF1o, mes, d\\xEDa - Formato igual' #@param {type:\"string\"}\n",
        "Salida = 'Meses, d\\xEDas. String - Meses y - d\\xEDas' #@param {type:\"string\"}\n",
        "Finalizacion = 'Cuando se imprime la resta' #@param {type:\"string\"}"
      ],
      "execution_count": null,
      "outputs": []
    },
    {
      "cell_type": "markdown",
      "metadata": {
        "id": "2sWS09IA8rFx"
      },
      "source": [
        "Escriba el Pseudocódigo en el siguiente espacio"
      ]
    },
    {
      "cell_type": "code",
      "metadata": {
        "colab": {
          "base_uri": "https://localhost:8080/",
          "height": 35
        },
        "id": "Sab-zMUf4oF1",
        "outputId": "f045ae09-9da0-4e35-b8ae-b289e81ae71d"
      },
      "source": [
        "'''\n",
        "INICIO\n",
        "Lea: Fecha 1 y Fecha 2\n",
        "Separar años de meses y días\n",
        "Definir Fecha1.años y fecha2.años\n",
        "Definir Fecha1.meses y fecha2.meses\n",
        "Definir Fecha1.dias y fecha2.dias\n",
        "Se restan los años\n",
        "Se toma el valor absoluto de la resta anterior\n",
        "Pasamos meses a formato de días\n",
        "Sumamos los días que tiene la variable día\n",
        "Realizamos la resta de los días\n",
        "Tomamos valor absoluto\n",
        "Pasamos los años que tenemos a días.\n",
        "Asumimos que todos los meses tienen 30 días\n",
        "Realizamos la división entera.\n",
        "Residuo se le asigna a días\n",
        "FINAL\n",
        "'''"
      ],
      "execution_count": null,
      "outputs": [
        {
          "output_type": "execute_result",
          "data": {
            "application/vnd.google.colaboratory.intrinsic+json": {
              "type": "string"
            },
            "text/plain": [
              "'Escriba el pseudocódigo en este espacio'"
            ]
          },
          "metadata": {
            "tags": []
          },
          "execution_count": 34
        }
      ]
    },
    {
      "cell_type": "code",
      "metadata": {
        "id": "v2SvYGg6S5qY"
      },
      "source": [
        "def fecha(año):    \n",
        "   \n",
        "    #año = int(input(\"ing año: \"))\n",
        "    #mes = input(\"ing mes: \")\n",
        "    #dia = int(input(\"ing dia: \"))\n",
        "    \n",
        "    año = int(año)\n",
        "\n",
        "    if (año%4==0 and año%100 != 0) or año%400==0: \n",
        "        bisiesto = True\n",
        "    else:\n",
        "        bisiesto = False\n",
        "   \n",
        "    return bisiesto  "
      ],
      "execution_count": 70,
      "outputs": []
    },
    {
      "cell_type": "code",
      "metadata": {
        "id": "E6FgDzkl9AMh"
      },
      "source": [
        "def diferencia(fecha1, fecha2):\n",
        "  ''' Fecha 1 corresponde a la fecha inicial. Formato =  dd-mm-aaaa\n",
        "      Fecha 2 corresponde a la fiecha final. Formato =  dd-mm-aaaa\n",
        "  '''\n",
        "\n",
        "\n",
        "  ano1= int(fecha1.split('-')[2])\n",
        "  ano2= int(fecha2.split('-')[2])\n",
        "  mes1= fecha1.split('-')[1]\n",
        "  mes2= fecha2.split('-')[1]\n",
        "  dia1= int(fecha1.split('-')[0])\n",
        "  dia2= int(fecha2.split('-')[0])\n",
        "\n",
        "  # determinar si algún año es bisiesto\n",
        "  if (fecha(ano1)) == True:\n",
        "    d_mes_d_1 = {'01':30, '02': 29, '03':31, '04':30, '05':31, '06':30, '07':31, '08':31, '09':30, '10':31, '11':30, '12':31} # dias de cada mes \n",
        "    d_mes_l_1 = [31, 29, 31, 30, 31, 30, 31, 31, 30, 31, 30, 31] # dias de cada mes \n",
        "  else:\n",
        "    d_mes_d_1 = {'01':30, '02': 28, '03':31, '04':30, '05':31, '06':30, '07':31, '08':31, '09':30, '10':31, '11':30, '12':31} # dias de cada mes \n",
        "    d_mes_l_1 = [31, 28, 31, 30, 31, 30, 31, 31, 30, 31, 30, 31] # dias de cada mes \n",
        "\n",
        "  if (fecha(ano2) == True):\n",
        "    d_mes_d_2 = {'01':30, '02': 29, '03':31, '04':30, '05':31, '06':30, '07':31, '08':31, '09':30, '10':31, '11':30, '12':31} # dias de cada mes \n",
        "    d_mes_l_2 = [31, 29, 31, 30, 31, 30, 31, 31, 30, 31, 30, 31] # dias de cada mes \n",
        "  else:\n",
        "    d_mes_d_2 = {'01':30, '02': 28, '03':31, '04':30, '05':31, '06':30, '07':31, '08':31, '09':30, '10':31, '11':30, '12':31} # dias de cada mes \n",
        "    d_mes_l_2 = [31, 28, 31, 30, 31, 30, 31, 31, 30, 31, 30, 31] # dias de cada mes \n",
        "\n",
        "  # determinar fecha mayor \n",
        "  mayor = True\n",
        "  igual = False \n",
        "  if ano1>ano2:\n",
        "    mayor = True \n",
        "  elif (ano1<ano2):\n",
        "    mayor = False \n",
        "  elif (ano1 == ano2):\n",
        "    if int (mes1) > int (mes2):\n",
        "      mayor = True \n",
        "    elif int (mes1) < int (mes2):\n",
        "      mayor = False \n",
        "    elif int (mes1) == int (mes2):\n",
        "      if dia1 > dia2:\n",
        "        mayor = True\n",
        "      elif dia1 < dia2:\n",
        "        mayor = False \n",
        "      elif dia1 == dia2:\n",
        "        igual = True\n",
        "  # mayor = True and igual = False ... Fecha 1 mayor\n",
        "  # mayor = False and igual = False ... Fecha 2 mayor \n",
        "  # igual = True ... Fechas iguales  \n",
        "\n",
        "  # determinar el número transcurrido de dias entre las dos fechas dadas \n",
        "  if (mayor == True and igual == False): # fecha 1 mayor\n",
        "    if (ano1 == ano2):\n",
        "      dias = dia1 + sum(d_mes_l_1[int(mes2):int (mes1)-1]) + d_mes_d_1[mes2] - dia2 +1\n",
        "    else:\n",
        "      dias_fec1_d = d_mes_d_1[mes1] - dia1 + 1\n",
        "      dias_fec1_m = sum(d_mes_l_1[:int (mes1)-1]) # suma dias restantes del año \n",
        "      dias_tot_1 = dias_fec1_d + dias_fec1_m # dias totales fecha 1 \n",
        "\n",
        "      dias_fec2_d = dia2\n",
        "      dias_fec2_m = sum(d_mes_l_2[int (mes2):]) # suma dias restantes del año \n",
        "      dias_tot_2 = dias_fec2_d + dias_fec2_m # dias totales fecha 1 \n",
        "\n",
        "      dias_año = 0\n",
        "      rest_año = ano1-ano2 \n",
        "      if (rest_año >= 2): # número de dias para los años restantes\n",
        "        for i in range(ano2+1, ano1, 1): # determinar años bisiestos entre las fechas restantes\n",
        "          if (fecha(i)):\n",
        "            dias_año += 366\n",
        "          else:\n",
        "            dias_año += 365\n",
        "    \n",
        "      \n",
        "      dias = dias_año + dias_tot_1 + dias_tot_2 # dias totales transcurridos \n",
        "\n",
        "  if (mayor == False and igual == False): # fecha 2 mayor\n",
        "    if (ano1 == ano2 ):\n",
        "      dias = dia2 + sum(d_mes_l_2[int(mes1):int (mes2)-1]) + d_mes_d_2[mes1] - dia1 + 1\n",
        "    else:\n",
        "      dias_fec2_d = dia2\n",
        "      dias_fec2_m = sum(d_mes_l_2[:int (mes2)-1]) # suma dias restantes del año\n",
        "      dias_tot_2 = dias_fec2_d + dias_fec2_m # dias totales fecha 2\n",
        "\n",
        "      dias_fec1_d = d_mes_d_1[mes1] - dia1 +1\n",
        "      dias_fec1_m = sum(d_mes_l_1[int (mes1):]) # suma dias restantes del año \n",
        "      dias_tot_1 = dias_fec1_d + dias_fec1_m # dias totales fecha 1 \n",
        "    \n",
        "      dias_año = 0\n",
        "      rest_año = ano2-ano1 \n",
        "      if (rest_año >= 2):\n",
        "        for i in range(ano1+1, ano2, 1):\n",
        "          if (fecha(i)):\n",
        "            dias_año += 366\n",
        "          else:\n",
        "            dias_año += 365\n",
        "       \n",
        "      dias = dias_año + dias_tot_1 + dias_tot_2 # dias totales transcurridos\n",
        "\n",
        "  if (igual == True):\n",
        "    dias = 0\n",
        "\n",
        "  mesdiferencia = int (dias/30)\n",
        "  return ([dias, mesdiferencia])\n",
        "  "
      ],
      "execution_count": 130,
      "outputs": []
    },
    {
      "cell_type": "code",
      "metadata": {
        "colab": {
          "base_uri": "https://localhost:8080/"
        },
        "id": "L7xdhT9J9woe",
        "outputId": "d0557c9c-6057-4d64-f89f-46404b99a689"
      },
      "source": [
        "#Pruebe el algoritmo con las fechas 12 de Julio de 1902 y 15 de marzo de 1937\n",
        "\n",
        "#diferencia('12-07-1902','15-03-1937')\n",
        "diferencia('01-01-2030','02-09-2021')\n",
        "\n",
        "#ano1 = 2020\n",
        "#ano2 = 2026\n",
        "#for i in range(ano1+1, ano2, 1):\n",
        "#  print(i)"
      ],
      "execution_count": 131,
      "outputs": [
        {
          "output_type": "execute_result",
          "data": {
            "text/plain": [
              "[3046, 101]"
            ]
          },
          "metadata": {
            "tags": []
          },
          "execution_count": 131
        }
      ]
    },
    {
      "cell_type": "markdown",
      "metadata": {
        "id": "Twg_cfks9_G1"
      },
      "source": [
        "Ahora, modifique el pseudocódigo para ingresar los años bisiestos, ¿Dónde debería integrarse esta nueva situación?"
      ]
    },
    {
      "cell_type": "code",
      "metadata": {
        "id": "6i9U-h0C-HvK"
      },
      "source": [
        "#Escriba el código del algoritmo acá"
      ],
      "execution_count": null,
      "outputs": []
    },
    {
      "cell_type": "code",
      "metadata": {
        "id": "2aYFylPb-Q_D"
      },
      "source": [
        "#Realice la misma prueba del algoritmo que se ralizó anteriormente"
      ],
      "execution_count": null,
      "outputs": []
    },
    {
      "cell_type": "markdown",
      "metadata": {
        "id": "2ZJe2NHs-VVj"
      },
      "source": [
        "# Ejercicio Grupal"
      ]
    },
    {
      "cell_type": "markdown",
      "metadata": {
        "id": "nmBEPHQt-bZ9"
      },
      "source": [
        "Elaborar un algoritmo que reciba el nombre del empleado, su salario básico y el número de horas trabajadas al mes. Escriba el salario total básico que recibe en un año. Si el empleado debe pagar un impuesto si devenga más de $5’235.470 COP, agregue el condicional a la ejecución del código:\n",
        "\n",
        "El empleado debe pagar un impuesto si devenga más de $5’235.470 COP, agregue el condicional a la ejecución del código. El impuesto es del 7%, ¿en cuánto es el valor final del salario anual?"
      ]
    },
    {
      "cell_type": "code",
      "metadata": {
        "colab": {
          "base_uri": "https://localhost:8080/",
          "height": 209,
          "referenced_widgets": [
            "3f0da9cd1a884acbb5072d58ec2081cb",
            "91fdddbc9a934d6494bdd7cc28091ad8",
            "f4ca141526dd44c88e3f9898db59c420",
            "a4ae228e7315457394466060926f6659",
            "ffe5d9f02273414c9b1bae90b54843e6",
            "3f33d46e81ef427c907f4d1315db75a4",
            "c766dbd47b374016ab298562e414de17",
            "30264c4dc37544deb60bae08fd57beea",
            "e64768ad454b4eed893badd77b10c46c",
            "08dbdda8ced3403d872a5fa02682eb58",
            "6f733df17ec24afc929234352c1d5153",
            "1dfdec169adf4290ad2b0f246fafc4da",
            "414100c75bbb402aaab854dd0fd42677",
            "f7843a769d384403b14980b21995227c",
            "2d06a9730eca4a798da3989509223845",
            "4418a40309954563abeae99327b874f0",
            "4c30ac7c4310427a97c59d51d78fa1a4",
            "8daae45ac5dc4274aad6821931a3d984",
            "ed93c8a75f324fe0a06f2e36a70fd90b",
            "27298598b804486e90572cf421b21a60",
            "41f9b44901b8459ab0e60d19c32783c2",
            "235965a044254012a2f94d478dac26d1"
          ]
        },
        "id": "8RxwBtPf-rCE",
        "outputId": "2114b903-7a8b-4401-a960-020ae7632e52"
      },
      "source": [
        "@interact(Analisis=False, Salida = False, Limitado = False, Finalizacion = False, Claridad = False, Prueba = False )\n",
        "def g(Analisis, Salida, Limitado, Finalizacion, Claridad, Prueba):\n",
        "    pass"
      ],
      "execution_count": null,
      "outputs": [
        {
          "output_type": "display_data",
          "data": {
            "application/vnd.jupyter.widget-view+json": {
              "model_id": "3f0da9cd1a884acbb5072d58ec2081cb",
              "version_minor": 0,
              "version_major": 2
            },
            "text/plain": [
              "interactive(children=(Checkbox(value=False, description='Analisis'), Checkbox(value=False, description='Salida…"
            ]
          },
          "metadata": {
            "tags": []
          }
        }
      ]
    },
    {
      "cell_type": "code",
      "metadata": {
        "id": "ALuNfOCX-uj5"
      },
      "source": [
        "#@title Puntualización \n",
        "\n",
        "Datos_de_entrada = '' #@param {type:\"string\"}\n",
        "Salida = '' #@param {type:\"string\"}\n",
        "Finalizacion = '' #@param {type:\"string\"}"
      ],
      "execution_count": null,
      "outputs": []
    },
    {
      "cell_type": "markdown",
      "metadata": {
        "id": "6Vmqoa2r-7A2"
      },
      "source": [
        "Escriba el pseudocódigo en el siguiente espacio"
      ]
    },
    {
      "cell_type": "code",
      "metadata": {
        "id": "5_HFImMo-97i"
      },
      "source": [
        "\"Escriba el pseudocódigo en este espacio\""
      ],
      "execution_count": null,
      "outputs": []
    },
    {
      "cell_type": "code",
      "metadata": {
        "id": "-EptaxkR-1IA"
      },
      "source": [
        "#Escriba el código del algoritmo acá"
      ],
      "execution_count": null,
      "outputs": []
    },
    {
      "cell_type": "markdown",
      "metadata": {
        "id": "QA2rr9Su-3xF"
      },
      "source": [
        "Pruebe el algoritmo con las siguientes opciones:\n",
        "\n",
        "\n",
        "1.   Carlos Saldarriaga, 7'328.000\n",
        "2.   Laura Zuluaga, 2'370.000\n",
        "3. Camila Fernández, 3'780.000\n",
        "4. Moisés Rojas, 1'800.000\n",
        "5. Jairo Caldera, 6'000.000\n",
        "6. Ana Silgado, 3'400.000\n",
        "\n"
      ]
    },
    {
      "cell_type": "code",
      "metadata": {
        "id": "2sV8YhaF-W4g"
      },
      "source": [
        "#Pruebe el algoritmo acá"
      ],
      "execution_count": null,
      "outputs": []
    }
  ]
}